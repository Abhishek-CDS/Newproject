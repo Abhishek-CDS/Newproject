{
 "cells": [
  {
   "cell_type": "markdown",
   "id": "9ecf7530",
   "metadata": {},
   "source": [
    "                                             __Bussiness Case__\n",
    "                                                                                                                           \n",
    "Bank GoodCredit wants to predict cred score for current credit card customers. The cred score will denote a customer’s credit worthiness and help the bank in reducing credit default risk."
   ]
  },
  {
   "cell_type": "markdown",
   "id": "3ddd0d91",
   "metadata": {},
   "source": [
    "                                          ____DataSets Attributes____\n",
    "                                               \n",
    "Target variable → Bad_label\n",
    "* 0 – Customer has Good credit history\n",
    "* 1 – Customer has Bad credit history (falls into 30 DPD + bucket)\n",
    "\n",
    "This data has three tables and each tables has there own columns :-\n",
    "* __Cust_Account__   \n",
    "* __Cust_Demographics__ \n",
    "* __Cust_Enquiry__  \n",
    "\n",
    "                                               "
   ]
  },
  {
   "cell_type": "markdown",
   "id": "d2a5758a",
   "metadata": {},
   "source": [
    "                                                __Preface__\n",
    "                                              \n",
    "In bank Goodcredit, banks consider and evaluate every loan application based on merits. They check the creditworthiness of every individual or entity to determine the level of risk that they subject themself by lending to an entity or individual.Clients with a high level of risk are less desirable since they present with a high likelihood of defaulting on their loan obligations. Low-risk clients are more likely to get their loan applications approved since the lender considers them creditworthy.                                              "
   ]
  },
  {
   "cell_type": "markdown",
   "id": "ecc2aeb1",
   "metadata": {},
   "source": [
    "                                               __Domain Analysis__\n",
    "                                         \n",
    "Bank credit analysis involves verifying and determining the creditworthiness of a potential client by looking at their financial state, credit reports, and business cash flows.The goal of credit analysis is to determine the level of default risk that a client presents to the company and the losses that the bank will suffer if the client defaults.The risk level that a client presents determines whether the bank will approve or reject the loan application, and if approved, the amount to be awarded.some of the major table this data has and every tables has there own important columns which are Customers Account, Customers Demographics and Customers Enquiry.                                         \n",
    "\n",
    "* Cust_Account :- This table contains customer’s historical accounts data and payments history.\n",
    "* Cust_Demographics :- This table contains customer’s historical enquiry data such as enquiry amount and enquiry purpose.\n",
    "* Cust_Enquiry :- Current customer applications with demographic data\n",
    "* __Note__ that demographics features are renamed as features and obscured in accordance with privacy policies.\n",
    "\n",
    "* I will explain every necesseary columns when i'll do __Data Cleaning__.\n"
   ]
  },
  {
   "cell_type": "markdown",
   "id": "ce12dfd9",
   "metadata": {},
   "source": [
    "                                              __Data Set Fields__\n",
    "                                              \n",
    "For getting a Dataset we have to install pymysql and mysql connector. and the help of mysql i'm going to load dataset and convert into csv file then i'm going to work on this project.                                              "
   ]
  },
  {
   "cell_type": "markdown",
   "id": "f8a585ea",
   "metadata": {},
   "source": [
    "                                            __python implimentation__"
   ]
  },
  {
   "cell_type": "raw",
   "id": "75bae725",
   "metadata": {},
   "source": [
    "# installing pymysql and mysql-connector package for making connections to database server\n",
    "\n",
    "!pip install pymysql  \n",
    "!pip install mysql-connector"
   ]
  },
  {
   "cell_type": "code",
   "execution_count": 1,
   "id": "06511496",
   "metadata": {},
   "outputs": [],
   "source": [
    "import os               # Handling the Current Working Directory\n",
    "import mysql.connector  #  mysql-connector for making connections to database server\n",
    "import pandas as pd     # import pandas for analyzing, cleaning, exploring, and manipulating data\n",
    "import numpy as np      # import numpy for working with mathematices part/numerical data\n",
    "## visualisation\n",
    "import matplotlib.pyplot as plt\n",
    "import seaborn as sns\n",
    "# for ignoring warning\n",
    "import warnings\n",
    "warnings.filterwarnings(\"ignore\")"
   ]
  },
  {
   "cell_type": "raw",
   "id": "ee59ac02",
   "metadata": {},
   "source": [
    "## making connections to database server\n",
    "connection=mysql.connector.connect(host = \"18.136.157.135\",\n",
    "                                  user='dm_team1',\n",
    "                                  password='DM!$Team&279@20!')"
   ]
  },
  {
   "cell_type": "raw",
   "id": "484d437f",
   "metadata": {},
   "source": [
    "## Check the number of databases available on the server\n",
    "cursor=connection.cursor()\n",
    "cursor.execute('show databases')\n",
    "for i in cursor:\n",
    "    print(i)"
   ]
  },
  {
   "cell_type": "raw",
   "id": "2bda382a",
   "metadata": {},
   "source": [
    "## connecting the database\n",
    "connection=mysql.connector.connect(host='18.136.157.135',\n",
    "                                  user='dm_team1',\n",
    "                                  password='DM!$Team&279@20!',\n",
    "                                  database='project_banking')"
   ]
  },
  {
   "cell_type": "raw",
   "id": "cd673f3b",
   "metadata": {},
   "source": [
    "# getting all tables of bank goodcredit\n",
    "db_tables=pd.read_sql_query('show tables',connection)\n",
    "print(db_tables)"
   ]
  },
  {
   "cell_type": "raw",
   "id": "ce27fb76",
   "metadata": {},
   "source": [
    "# put Cust_Account tables in variable\n",
    "Cust_Account = pd.read_sql_query(\"Select * from Cust_Account\",connection)"
   ]
  },
  {
   "cell_type": "raw",
   "id": "84e404c5",
   "metadata": {},
   "source": [
    "# put Cust_Demographics tables in variable\n",
    "Cust_Demographics = pd.read_sql_query(\"Select * from Cust_Demographics\",connection)"
   ]
  },
  {
   "cell_type": "raw",
   "id": "f172d25f",
   "metadata": {},
   "source": [
    "# put Cust_Enquiry tables in variable\n",
    "Cust_Enquiry = pd.read_sql_query(\"Select * from Cust_Enquiry\",connection)"
   ]
  },
  {
   "cell_type": "code",
   "execution_count": 2,
   "id": "0b071812",
   "metadata": {},
   "outputs": [],
   "source": [
    "# run a code for showing all columns\n",
    "pd.set_option('display.max_columns',None)\n",
    "pd.reset_option('display.max_rows',None)"
   ]
  },
  {
   "cell_type": "raw",
   "id": "f91112b9",
   "metadata": {},
   "source": [
    "# This table contains customer’s historical accounts data and payments history.\n",
    "Cust_Account"
   ]
  },
  {
   "cell_type": "raw",
   "id": "57a77791",
   "metadata": {},
   "source": [
    "#  This table contains customer’s historical enquiry data such as enquiry amount and enquiry purpose.\n",
    "Cust_Demographicsr"
   ]
  },
  {
   "cell_type": "raw",
   "id": "0a60f913",
   "metadata": {},
   "source": [
    "# Current customer applications with demographic data\n",
    "Cust_Enquiry"
   ]
  },
  {
   "cell_type": "raw",
   "id": "f80d477a",
   "metadata": {},
   "source": [
    "# here i'm going to merge the all tables in one variables and making one dataset of three tables by using inner join\n",
    "data = pd.merge(Cust_Account,Cust_Demographics,on =\"customer_no\",how=\"inner\")"
   ]
  },
  {
   "cell_type": "raw",
   "id": "4f3fdefe",
   "metadata": {},
   "source": [
    "# that's we got dataset after mergeing.....\n",
    "data"
   ]
  },
  {
   "cell_type": "raw",
   "id": "70467adb",
   "metadata": {},
   "source": [
    "# To save mergeing dataset\n",
    "data.to_csv(\"Bank_GoodCredits\",index=False)"
   ]
  },
  {
   "cell_type": "code",
   "execution_count": 3,
   "id": "c709f313",
   "metadata": {},
   "outputs": [
    {
     "ename": "FileNotFoundError",
     "evalue": "[Errno 2] No such file or directory: 'Bank_GoodCredits'",
     "output_type": "error",
     "traceback": [
      "\u001b[1;31m---------------------------------------------------------------------------\u001b[0m",
      "\u001b[1;31mFileNotFoundError\u001b[0m                         Traceback (most recent call last)",
      "\u001b[1;32m~\\AppData\\Local\\Temp\\ipykernel_23228\\366114313.py\u001b[0m in \u001b[0;36m<module>\u001b[1;34m\u001b[0m\n\u001b[0;32m      1\u001b[0m \u001b[1;31m#data is in csv file so we have to call pd.read_csv from pandas\u001b[0m\u001b[1;33m\u001b[0m\u001b[1;33m\u001b[0m\u001b[0m\n\u001b[1;32m----> 2\u001b[1;33m \u001b[0mdata\u001b[0m \u001b[1;33m=\u001b[0m \u001b[0mpd\u001b[0m\u001b[1;33m.\u001b[0m\u001b[0mread_csv\u001b[0m\u001b[1;33m(\u001b[0m\u001b[1;34m\"Bank_GoodCredits\"\u001b[0m\u001b[1;33m)\u001b[0m\u001b[1;31m# loading a dataset\u001b[0m\u001b[1;33m\u001b[0m\u001b[1;33m\u001b[0m\u001b[0m\n\u001b[0m",
      "\u001b[1;32m~\\anaconda3\\lib\\site-packages\\pandas\\util\\_decorators.py\u001b[0m in \u001b[0;36mwrapper\u001b[1;34m(*args, **kwargs)\u001b[0m\n\u001b[0;32m    309\u001b[0m                     \u001b[0mstacklevel\u001b[0m\u001b[1;33m=\u001b[0m\u001b[0mstacklevel\u001b[0m\u001b[1;33m,\u001b[0m\u001b[1;33m\u001b[0m\u001b[1;33m\u001b[0m\u001b[0m\n\u001b[0;32m    310\u001b[0m                 )\n\u001b[1;32m--> 311\u001b[1;33m             \u001b[1;32mreturn\u001b[0m \u001b[0mfunc\u001b[0m\u001b[1;33m(\u001b[0m\u001b[1;33m*\u001b[0m\u001b[0margs\u001b[0m\u001b[1;33m,\u001b[0m \u001b[1;33m**\u001b[0m\u001b[0mkwargs\u001b[0m\u001b[1;33m)\u001b[0m\u001b[1;33m\u001b[0m\u001b[1;33m\u001b[0m\u001b[0m\n\u001b[0m\u001b[0;32m    312\u001b[0m \u001b[1;33m\u001b[0m\u001b[0m\n\u001b[0;32m    313\u001b[0m         \u001b[1;32mreturn\u001b[0m \u001b[0mwrapper\u001b[0m\u001b[1;33m\u001b[0m\u001b[1;33m\u001b[0m\u001b[0m\n",
      "\u001b[1;32m~\\anaconda3\\lib\\site-packages\\pandas\\io\\parsers\\readers.py\u001b[0m in \u001b[0;36mread_csv\u001b[1;34m(filepath_or_buffer, sep, delimiter, header, names, index_col, usecols, squeeze, prefix, mangle_dupe_cols, dtype, engine, converters, true_values, false_values, skipinitialspace, skiprows, skipfooter, nrows, na_values, keep_default_na, na_filter, verbose, skip_blank_lines, parse_dates, infer_datetime_format, keep_date_col, date_parser, dayfirst, cache_dates, iterator, chunksize, compression, thousands, decimal, lineterminator, quotechar, quoting, doublequote, escapechar, comment, encoding, encoding_errors, dialect, error_bad_lines, warn_bad_lines, on_bad_lines, delim_whitespace, low_memory, memory_map, float_precision, storage_options)\u001b[0m\n\u001b[0;32m    676\u001b[0m     \u001b[0mkwds\u001b[0m\u001b[1;33m.\u001b[0m\u001b[0mupdate\u001b[0m\u001b[1;33m(\u001b[0m\u001b[0mkwds_defaults\u001b[0m\u001b[1;33m)\u001b[0m\u001b[1;33m\u001b[0m\u001b[1;33m\u001b[0m\u001b[0m\n\u001b[0;32m    677\u001b[0m \u001b[1;33m\u001b[0m\u001b[0m\n\u001b[1;32m--> 678\u001b[1;33m     \u001b[1;32mreturn\u001b[0m \u001b[0m_read\u001b[0m\u001b[1;33m(\u001b[0m\u001b[0mfilepath_or_buffer\u001b[0m\u001b[1;33m,\u001b[0m \u001b[0mkwds\u001b[0m\u001b[1;33m)\u001b[0m\u001b[1;33m\u001b[0m\u001b[1;33m\u001b[0m\u001b[0m\n\u001b[0m\u001b[0;32m    679\u001b[0m \u001b[1;33m\u001b[0m\u001b[0m\n\u001b[0;32m    680\u001b[0m \u001b[1;33m\u001b[0m\u001b[0m\n",
      "\u001b[1;32m~\\anaconda3\\lib\\site-packages\\pandas\\io\\parsers\\readers.py\u001b[0m in \u001b[0;36m_read\u001b[1;34m(filepath_or_buffer, kwds)\u001b[0m\n\u001b[0;32m    573\u001b[0m \u001b[1;33m\u001b[0m\u001b[0m\n\u001b[0;32m    574\u001b[0m     \u001b[1;31m# Create the parser.\u001b[0m\u001b[1;33m\u001b[0m\u001b[1;33m\u001b[0m\u001b[0m\n\u001b[1;32m--> 575\u001b[1;33m     \u001b[0mparser\u001b[0m \u001b[1;33m=\u001b[0m \u001b[0mTextFileReader\u001b[0m\u001b[1;33m(\u001b[0m\u001b[0mfilepath_or_buffer\u001b[0m\u001b[1;33m,\u001b[0m \u001b[1;33m**\u001b[0m\u001b[0mkwds\u001b[0m\u001b[1;33m)\u001b[0m\u001b[1;33m\u001b[0m\u001b[1;33m\u001b[0m\u001b[0m\n\u001b[0m\u001b[0;32m    576\u001b[0m \u001b[1;33m\u001b[0m\u001b[0m\n\u001b[0;32m    577\u001b[0m     \u001b[1;32mif\u001b[0m \u001b[0mchunksize\u001b[0m \u001b[1;32mor\u001b[0m \u001b[0miterator\u001b[0m\u001b[1;33m:\u001b[0m\u001b[1;33m\u001b[0m\u001b[1;33m\u001b[0m\u001b[0m\n",
      "\u001b[1;32m~\\anaconda3\\lib\\site-packages\\pandas\\io\\parsers\\readers.py\u001b[0m in \u001b[0;36m__init__\u001b[1;34m(self, f, engine, **kwds)\u001b[0m\n\u001b[0;32m    930\u001b[0m \u001b[1;33m\u001b[0m\u001b[0m\n\u001b[0;32m    931\u001b[0m         \u001b[0mself\u001b[0m\u001b[1;33m.\u001b[0m\u001b[0mhandles\u001b[0m\u001b[1;33m:\u001b[0m \u001b[0mIOHandles\u001b[0m \u001b[1;33m|\u001b[0m \u001b[1;32mNone\u001b[0m \u001b[1;33m=\u001b[0m \u001b[1;32mNone\u001b[0m\u001b[1;33m\u001b[0m\u001b[1;33m\u001b[0m\u001b[0m\n\u001b[1;32m--> 932\u001b[1;33m         \u001b[0mself\u001b[0m\u001b[1;33m.\u001b[0m\u001b[0m_engine\u001b[0m \u001b[1;33m=\u001b[0m \u001b[0mself\u001b[0m\u001b[1;33m.\u001b[0m\u001b[0m_make_engine\u001b[0m\u001b[1;33m(\u001b[0m\u001b[0mf\u001b[0m\u001b[1;33m,\u001b[0m \u001b[0mself\u001b[0m\u001b[1;33m.\u001b[0m\u001b[0mengine\u001b[0m\u001b[1;33m)\u001b[0m\u001b[1;33m\u001b[0m\u001b[1;33m\u001b[0m\u001b[0m\n\u001b[0m\u001b[0;32m    933\u001b[0m \u001b[1;33m\u001b[0m\u001b[0m\n\u001b[0;32m    934\u001b[0m     \u001b[1;32mdef\u001b[0m \u001b[0mclose\u001b[0m\u001b[1;33m(\u001b[0m\u001b[0mself\u001b[0m\u001b[1;33m)\u001b[0m\u001b[1;33m:\u001b[0m\u001b[1;33m\u001b[0m\u001b[1;33m\u001b[0m\u001b[0m\n",
      "\u001b[1;32m~\\anaconda3\\lib\\site-packages\\pandas\\io\\parsers\\readers.py\u001b[0m in \u001b[0;36m_make_engine\u001b[1;34m(self, f, engine)\u001b[0m\n\u001b[0;32m   1214\u001b[0m             \u001b[1;31m# \"Union[str, PathLike[str], ReadCsvBuffer[bytes], ReadCsvBuffer[str]]\"\u001b[0m\u001b[1;33m\u001b[0m\u001b[1;33m\u001b[0m\u001b[0m\n\u001b[0;32m   1215\u001b[0m             \u001b[1;31m# , \"str\", \"bool\", \"Any\", \"Any\", \"Any\", \"Any\", \"Any\"\u001b[0m\u001b[1;33m\u001b[0m\u001b[1;33m\u001b[0m\u001b[0m\n\u001b[1;32m-> 1216\u001b[1;33m             self.handles = get_handle(  # type: ignore[call-overload]\n\u001b[0m\u001b[0;32m   1217\u001b[0m                 \u001b[0mf\u001b[0m\u001b[1;33m,\u001b[0m\u001b[1;33m\u001b[0m\u001b[1;33m\u001b[0m\u001b[0m\n\u001b[0;32m   1218\u001b[0m                 \u001b[0mmode\u001b[0m\u001b[1;33m,\u001b[0m\u001b[1;33m\u001b[0m\u001b[1;33m\u001b[0m\u001b[0m\n",
      "\u001b[1;32m~\\anaconda3\\lib\\site-packages\\pandas\\io\\common.py\u001b[0m in \u001b[0;36mget_handle\u001b[1;34m(path_or_buf, mode, encoding, compression, memory_map, is_text, errors, storage_options)\u001b[0m\n\u001b[0;32m    784\u001b[0m         \u001b[1;32mif\u001b[0m \u001b[0mioargs\u001b[0m\u001b[1;33m.\u001b[0m\u001b[0mencoding\u001b[0m \u001b[1;32mand\u001b[0m \u001b[1;34m\"b\"\u001b[0m \u001b[1;32mnot\u001b[0m \u001b[1;32min\u001b[0m \u001b[0mioargs\u001b[0m\u001b[1;33m.\u001b[0m\u001b[0mmode\u001b[0m\u001b[1;33m:\u001b[0m\u001b[1;33m\u001b[0m\u001b[1;33m\u001b[0m\u001b[0m\n\u001b[0;32m    785\u001b[0m             \u001b[1;31m# Encoding\u001b[0m\u001b[1;33m\u001b[0m\u001b[1;33m\u001b[0m\u001b[0m\n\u001b[1;32m--> 786\u001b[1;33m             handle = open(\n\u001b[0m\u001b[0;32m    787\u001b[0m                 \u001b[0mhandle\u001b[0m\u001b[1;33m,\u001b[0m\u001b[1;33m\u001b[0m\u001b[1;33m\u001b[0m\u001b[0m\n\u001b[0;32m    788\u001b[0m                 \u001b[0mioargs\u001b[0m\u001b[1;33m.\u001b[0m\u001b[0mmode\u001b[0m\u001b[1;33m,\u001b[0m\u001b[1;33m\u001b[0m\u001b[1;33m\u001b[0m\u001b[0m\n",
      "\u001b[1;31mFileNotFoundError\u001b[0m: [Errno 2] No such file or directory: 'Bank_GoodCredits'"
     ]
    }
   ],
   "source": [
    "#data is in csv file so we have to call pd.read_csv from pandas\n",
    "data = pd.read_csv(\"Bank_GoodCredits\")# loading a dataset"
   ]
  },
  {
   "cell_type": "code",
   "execution_count": null,
   "id": "a291b0d7",
   "metadata": {},
   "outputs": [],
   "source": [
    "data"
   ]
  },
  {
   "cell_type": "markdown",
   "id": "b6e4dd58",
   "metadata": {},
   "source": [
    "# Basic Checks :-"
   ]
  },
  {
   "cell_type": "code",
   "execution_count": null,
   "id": "49a38926",
   "metadata": {},
   "outputs": [],
   "source": [
    "data.info()  # information of each and every columns"
   ]
  },
  {
   "cell_type": "code",
   "execution_count": null,
   "id": "0d47d4ac",
   "metadata": {},
   "outputs": [],
   "source": [
    "data.describe()    #statistical information"
   ]
  },
  {
   "cell_type": "code",
   "execution_count": null,
   "id": "1160a32b",
   "metadata": {},
   "outputs": [],
   "source": [
    "data.describe(include=\"O\")  # statistical information of categorical data"
   ]
  },
  {
   "cell_type": "raw",
   "id": "fb38aa05",
   "metadata": {},
   "source": [
    "Insight from Basic checks :-\n",
    "\n",
    "* we can see that this dataset has approx 50 lakhs rows.\n",
    "* there are lots of columns which are unnecessary columns we have to drop.\n",
    "* Lots of the columns having object type we have to change into int or float.\n",
    "* In this dataset lots of the missing are availables we cannot do EDA first.So,here we are going to do data cleaning         first."
   ]
  },
  {
   "cell_type": "markdown",
   "id": "d842be53",
   "metadata": {},
   "source": [
    "# Data Preprocessing :-"
   ]
  },
  {
   "cell_type": "markdown",
   "id": "c306d99c",
   "metadata": {},
   "source": [
    "Handling missing value first and going to drop columns which has around 40% missing value"
   ]
  },
  {
   "cell_type": "code",
   "execution_count": null,
   "id": "d7bcdb7b",
   "metadata": {},
   "outputs": [],
   "source": [
    "data.isnull().sum()"
   ]
  },
  {
   "cell_type": "code",
   "execution_count": null,
   "id": "1ac18db1",
   "metadata": {},
   "outputs": [],
   "source": [
    "# here i'm running a loop which columns having >=40% missing value i'm append in new variable and drop that columns.\n",
    "df = []\n",
    "for i in data.columns:\n",
    "    if (data[i].isnull().sum())/len(data)*100>=40:\n",
    "        df.append(i)"
   ]
  },
  {
   "cell_type": "code",
   "execution_count": null,
   "id": "8334e1b6",
   "metadata": {},
   "outputs": [],
   "source": [
    "print(df)"
   ]
  },
  {
   "cell_type": "code",
   "execution_count": null,
   "id": "d83b52d4",
   "metadata": {},
   "outputs": [],
   "source": [
    "# droping columns which has >=40% missing value\n",
    "data.drop(['closed_dt', 'amt_past_due', 'paymenthistory2', 'creditlimit', 'cashlimit', 'rateofinterest', 'paymentfrequency',\n",
    "           'actualpaymentamount', 'feature_8', 'feature_9', 'feature_10', 'feature_13', 'feature_17', 'feature_18',\n",
    "           'feature_45', 'feature_48', 'feature_49', 'feature_51', 'feature_53', 'feature_57', 'feature_61', 'feature_73',\n",
    "           'feature_74','Unnamed: 0'],axis=1,inplace=True)"
   ]
  },
  {
   "cell_type": "code",
   "execution_count": null,
   "id": "5c7b2740",
   "metadata": {},
   "outputs": [],
   "source": [
    "# checking duplicate rows\n",
    "data.duplicated().sum()"
   ]
  },
  {
   "cell_type": "code",
   "execution_count": null,
   "id": "09f7580b",
   "metadata": {},
   "outputs": [],
   "source": [
    "# dropping duplicated rows\n",
    "data.drop_duplicates(inplace=True)"
   ]
  },
  {
   "cell_type": "code",
   "execution_count": null,
   "id": "2ab405ee",
   "metadata": {},
   "outputs": [],
   "source": [
    "data"
   ]
  },
  {
   "cell_type": "code",
   "execution_count": null,
   "id": "862b55ac",
   "metadata": {},
   "outputs": [],
   "source": [
    "# now we are going to drop unnecessary columns\n",
    "\n",
    "data.drop([\"reporting_dt\",\"paymenthistory1\",\"dt_opened_y\",\"entry_time\",\"feature_2\",\"feature_20\",\"feature_21\",\n",
    "          \"feature_22\",\"feature_24\",\"feature_46\",\"feature_47\",\"feature_54\",\"feature_75\",\"feature_77\",\"last_paymt_dt\",\"paymt_str_dt\",\"paymt_end_dt\",\"feature_5\",\"feature_6\",\"feature_62\",\"feature_70\",\n",
    "           \"feature_79\",\"feature_39\",\"dt_opened_x\",\"upload_dt\"],axis=1,inplace=True)"
   ]
  },
  {
   "cell_type": "code",
   "execution_count": null,
   "id": "b203b150",
   "metadata": {},
   "outputs": [],
   "source": [
    "data"
   ]
  },
  {
   "cell_type": "code",
   "execution_count": null,
   "id": "f67b2b01",
   "metadata": {
    "scrolled": true
   },
   "outputs": [],
   "source": [
    "for i in data.columns:\n",
    "    print(f\"======= { i } ========\\n\")\n",
    "    print(data[i].value_counts())"
   ]
  },
  {
   "cell_type": "code",
   "execution_count": null,
   "id": "ed45fc75",
   "metadata": {},
   "outputs": [],
   "source": [
    "# Now, i'm going to drop that columns which has no variety\n",
    "\n",
    "data.drop([\"owner_indic\",\"feature_11\",\"feature_19\",\"feature_23\",\"feature_25\",\"feature_31\",\"feature_33\",\"feature_42\",\n",
    "          \"feature_55\",\"feature_58\",\"feature_59\",\"feature_60\",\"feature_67\",\"feature_76\",\"feature_78\",\"feature_52\",],axis=1,inplace=True)"
   ]
  },
  {
   "cell_type": "code",
   "execution_count": null,
   "id": "9ebe03e8",
   "metadata": {},
   "outputs": [],
   "source": [
    "data"
   ]
  },
  {
   "cell_type": "markdown",
   "id": "b79d9408",
   "metadata": {},
   "source": [
    "### filling the null value and change data type :-"
   ]
  },
  {
   "cell_type": "code",
   "execution_count": null,
   "id": "b97d80cd",
   "metadata": {},
   "outputs": [],
   "source": [
    "pd.reset_option('display.max_rows',None)"
   ]
  },
  {
   "cell_type": "code",
   "execution_count": null,
   "id": "883e6055",
   "metadata": {},
   "outputs": [],
   "source": [
    "data.isnull().sum()"
   ]
  },
  {
   "cell_type": "code",
   "execution_count": null,
   "id": "5833694a",
   "metadata": {},
   "outputs": [],
   "source": [
    "data.loc[data[\"opened_dt\"].isnull(),\"opened_dt\"] = \"13-Apr-12\"\n",
    "data.loc[data[\"high_credit_amt\"].isnull(),\"high_credit_amt\"] = np.mean(data.high_credit_amt)\n",
    "data.loc[data[\"feature_1\"].isnull(),\"feature_1\"] = \"Platinum Maxima\"\n",
    "data.loc[data[\"feature_3\"].isnull(),\"feature_3\"] = 682.0\n",
    "data.loc[data[\"feature_4\"].isnull(),\"feature_4\"] = 3.000000\n",
    "data.loc[data[\"feature_7\"].isnull(),\"feature_7\"] = np.mean(data.feature_7)\n",
    "data.loc[data[\"feature_12\"].isnull(),\"feature_12\"] = \"PM1\"\n",
    "data.loc[data[\"feature_14\"].isnull(),\"feature_14\"] = 12.000000\n",
    "data.loc[data[\"feature_15\"].isnull(),\"feature_15\"] = \"SA03\"\n",
    "data.loc[data[\"feature_16\"].isnull(),\"feature_16\"] = \"AS03\"\n",
    "data.loc[data[\"feature_26\"].isnull(),\"feature_26\"] = 0.000000\n",
    "data.loc[data[\"feature_27\"].isnull(),\"feature_27\"] = \"Graduate\"\n",
    "data.loc[data[\"feature_28\"].isnull(),\"feature_28\"] = \"New Delhi\"\n",
    "data.loc[data[\"feature_29\"].isnull(),\"feature_29\"] = np.mean(data.feature_29)\n",
    "data.loc[data[\"feature_30\"].isnull(),\"feature_30\"] = 2010.0\n",
    "data.loc[data[\"feature_32\"].isnull(),\"feature_32\"] = \"Self\"\n",
    "data.loc[data[\"feature_34\"].isnull(),\"feature_34\"] = 2.0\n",
    "data.loc[data[\"feature_35\"].isnull(),\"feature_35\"] = 42759.59392727169\n",
    "data.loc[data[\"feature_36\"].isnull(),\"feature_36\"] = \"Private Ltd. Co.\"\n",
    "data.loc[data[\"feature_37\"].isnull(),\"feature_37\"] = \"Banking/Financial Services\"\n",
    "data.loc[data[\"feature_38\"].isnull(),\"feature_38\"] = \"MANAGER\"\n",
    "data.loc[data[\"feature_40\"].isnull(),\"feature_40\"] = 0.0\n",
    "data.loc[data[\"feature_41\"].isnull(),\"feature_41\"] = 11.0\n",
    "data.loc[data[\"feature_43\"].isnull(),\"feature_43\"] = \"New Delhi\"\n",
    "data.loc[data[\"feature_44\"].isnull(),\"feature_44\"] = np.mean(data.feature_44)\n",
    "data.loc[data[\"feature_50\"].isnull(),\"feature_50\"] = \"Y\"\n",
    "data.loc[data[\"feature_63\"].isnull(),\"feature_63\"] = \"2010-0\"\n",
    "data.loc[data[\"feature_64\"].isnull(),\"feature_64\"] = 10.0\n",
    "data.loc[data[\"feature_65\"].isnull(),\"feature_65\"] = 157.0\n",
    "data.loc[data[\"feature_66\"].isnull(),\"feature_66\"] = np.mean(data.feature_66)\n",
    "data.loc[data[\"feature_68\"].isnull(),\"feature_68\"] = 1.0\n",
    "data.loc[data[\"feature_69\"].isnull(),\"feature_69\"] = np.mean(data.feature_69)\n",
    "data.loc[data[\"feature_71\"].isnull(),\"feature_71\"] = 10.0\n",
    "data.loc[data[\"feature_72\"].isnull(),\"feature_72\"] = \"R\"\n",
    "data.loc[data[\"feature_56\"].isnull(),\"feature_56\"] = 10.0"
   ]
  },
  {
   "cell_type": "code",
   "execution_count": null,
   "id": "ac456534",
   "metadata": {},
   "outputs": [],
   "source": []
  },
  {
   "cell_type": "code",
   "execution_count": null,
   "id": "8e55e03b",
   "metadata": {},
   "outputs": [],
   "source": [
    "data.isnull().sum()"
   ]
  },
  {
   "cell_type": "code",
   "execution_count": null,
   "id": "19dbe2c6",
   "metadata": {},
   "outputs": [],
   "source": [
    "# Converting Date columns in date formate using pd.to_datetime technique\n",
    "def convert_into_datetime(columns):\n",
    "    data[columns]=pd.to_datetime(data[columns])\n",
    "    \n",
    "# Converting the columns into Datetime using for loop\n",
    "for i in ['opened_dt']:  \n",
    "    convert_into_datetime(i) \n",
    "    \n",
    "# Create the new columns with month \n",
    "data['opened_dt_year']=data['opened_dt'].dt.year\n",
    "\n",
    "data.drop('opened_dt',axis=1,inplace=True)\n",
    "    "
   ]
  },
  {
   "cell_type": "code",
   "execution_count": null,
   "id": "7b525b42",
   "metadata": {},
   "outputs": [],
   "source": [
    "data.feature_63 = data['feature_63'].str.split('-',expand=True)[0]"
   ]
  },
  {
   "cell_type": "code",
   "execution_count": null,
   "id": "0d414d80",
   "metadata": {},
   "outputs": [],
   "source": [
    "data"
   ]
  },
  {
   "cell_type": "code",
   "execution_count": null,
   "id": "c05bfb7e",
   "metadata": {},
   "outputs": [],
   "source": [
    "data.loc[data[\"feature_3\"]<500,\"feature_3\"]=np.median(data.feature_3)"
   ]
  },
  {
   "cell_type": "code",
   "execution_count": null,
   "id": "b7c6f7d4",
   "metadata": {},
   "outputs": [],
   "source": [
    "data.high_credit_amt = data.high_credit_amt.astype(int)\n",
    "data.feature_3 = data.feature_3.astype(int)\n",
    "data.feature_4 = data.feature_4.astype(int)\n",
    "data.feature_14 = data.feature_14.astype(int)\n",
    "data.feature_26 = data.feature_26.astype(int)\n",
    "data.feature_30 = data.feature_30.astype(int)\n",
    "data.feature_34 = data.feature_34.astype(int)\n",
    "data.feature_40 = data.feature_40.astype(int)\n",
    "data.feature_44 = data.feature_41.astype(int)\n",
    "data.feature_56 = data.feature_56.astype(int)\n",
    "data.feature_63 = data.feature_63.astype(int)\n",
    "data.feature_64 = data.feature_64.astype(int)\n",
    "data.feature_65 = data.feature_65.astype(int)\n",
    "data.feature_68 = data.feature_68.astype(int)\n",
    "data.feature_71 = data.feature_71.astype(int)"
   ]
  },
  {
   "cell_type": "code",
   "execution_count": null,
   "id": "26431a33",
   "metadata": {},
   "outputs": [],
   "source": [
    "data"
   ]
  },
  {
   "cell_type": "markdown",
   "id": "49f19255",
   "metadata": {},
   "source": [
    "# EDA\n",
    "\n",
    "* we can't do EDA with this dataset because most of the columns name are hide because of security propose but we are going to do EDA with possible columns which can give us perfect insights.\n",
    "* Now,lets start EDA after that we are going to change categorical variable into numerical variables."
   ]
  },
  {
   "cell_type": "code",
   "execution_count": null,
   "id": "2d598fc6",
   "metadata": {},
   "outputs": [],
   "source": [
    "sns.countplot(data.feature_1,hue = data.Bad_label)\n",
    "plt.title(\"Credit Cards vs Bad Labels\")\n",
    "plt.xticks(rotation=90)\n",
    "plt.show()"
   ]
  },
  {
   "cell_type": "markdown",
   "id": "4e2fa217",
   "metadata": {},
   "source": [
    "#### Insights\n",
    "\n",
    "* Most of the person having Platinum Maxima and Platinum Deligh Cards.\n",
    "* person who has Golf Card they having 50-50 chance of good or bad Credit Score (bad or good labels).\n",
    "* person who have RBL bank Fun+,Insignia and Platinum Cricke Cards they have perfect credit score"
   ]
  },
  {
   "cell_type": "code",
   "execution_count": null,
   "id": "313cd98b",
   "metadata": {},
   "outputs": [],
   "source": [
    "sns.histplot(data.feature_3)"
   ]
  },
  {
   "cell_type": "markdown",
   "id": "5c565eb6",
   "metadata": {},
   "source": [
    "### Insights\n",
    "\n",
    "* Most of the customers have good credit score"
   ]
  },
  {
   "cell_type": "code",
   "execution_count": null,
   "id": "3db14477",
   "metadata": {},
   "outputs": [],
   "source": [
    "sns.countplot(data.feature_27,hue = data.Bad_label)\n",
    "plt.title(\"customers education vs Bad Labels\")\n",
    "plt.xticks(rotation=90)\n",
    "plt.show()"
   ]
  },
  {
   "cell_type": "markdown",
   "id": "ef222483",
   "metadata": {},
   "source": [
    "### Insights\n",
    "\n",
    "* Few chance of that customers who has completed Post Graduate, Graduate and MBA/MMS their Credit score are Bad."
   ]
  },
  {
   "cell_type": "code",
   "execution_count": null,
   "id": "9d879441",
   "metadata": {},
   "outputs": [],
   "source": [
    "sns.countplot(data.feature_28,hue = data.Bad_label)\n",
    "plt.title(\"Customer State vs Bad Labels\")\n",
    "plt.xticks(fontsize = 7,rotation = 90)#increasing font of x-axis and rorating 90 degree \n",
    "plt.yticks(fontsize = 11)#increasing font of y-axis\n",
    "plt.xticks(rotation=90)\n",
    "plt.show()"
   ]
  },
  {
   "cell_type": "markdown",
   "id": "6bb2f3b8",
   "metadata": {},
   "source": [
    "### Insights\n",
    "\n",
    "* Most of the Customers belong from New Delhi."
   ]
  },
  {
   "cell_type": "code",
   "execution_count": null,
   "id": "405b3e2d",
   "metadata": {},
   "outputs": [],
   "source": [
    "sns.countplot(data.feature_32,hue = data.Bad_label)\n",
    "plt.title(\"Customers stay vs Bad Labels\")\n",
    "plt.xticks(rotation=90)\n",
    "plt.show()"
   ]
  },
  {
   "cell_type": "markdown",
   "id": "da879590",
   "metadata": {},
   "source": [
    "### Insights\n",
    "\n",
    "* Most of the customers who has crdit cards they stay at their on home."
   ]
  },
  {
   "cell_type": "code",
   "execution_count": null,
   "id": "f645b142",
   "metadata": {},
   "outputs": [],
   "source": [
    "sns.countplot(data.feature_36,hue = data.Bad_label)\n",
    "plt.title(\"customers Business vs Bad Labels\")\n",
    "plt.xticks(rotation=90)\n",
    "plt.show()"
   ]
  },
  {
   "cell_type": "markdown",
   "id": "237834a2",
   "metadata": {},
   "source": [
    "### Insights \n",
    "\n",
    "\n",
    "* Most of the Customer having Credit Cards who belong from Private Ltd.Co.\n",
    "* Customers who started their bussiness in Partership they maintain their credit score."
   ]
  },
  {
   "cell_type": "code",
   "execution_count": null,
   "id": "83b2176e",
   "metadata": {},
   "outputs": [],
   "source": [
    "sns.countplot(data.feature_37,hue = data.Bad_label)\n",
    "plt.title(\"customers Ocupations vs Bad Labels\")\n",
    "plt.xticks(rotation=90)\n",
    "plt.show()"
   ]
  },
  {
   "cell_type": "markdown",
   "id": "fad09abc",
   "metadata": {},
   "source": [
    "### Insights \n",
    "\n",
    "* Most chance of that Customers who doing job in Banking/Financial services they taking credit cards. "
   ]
  },
  {
   "cell_type": "markdown",
   "id": "30b8f961",
   "metadata": {},
   "source": [
    "# Final Conclusions of Insights :-\n",
    "\n",
    "\n",
    "* Most of the person having Platinum Maxima and Platinum Deligh Cards.\n",
    "* Person who has Golf Card they having 50-50 chance of good or bad Credit Score (bad or good labels).\n",
    "* Person who have RBL bank Fun+,Insignia and Platinum Cricke Cards they have perfect credit score.\n",
    "* Most of the customers have good credit score.\n",
    "* Few chance of that customers who has completed Post Graduate, Graduate and MBA/MMS their Credit score are Bad.\n",
    "* Most of the Customers belong from New Delhi.\n",
    "* Most of the Customer having Credit Cards who belong from Private Ltd.Co.\n",
    "* Customers who started their bussiness in Partership they maintain their credit score.\n",
    "* Most chance of that Customers who doing job in Banking/Financial services they taking credit cards.\n",
    "* Most of the customers who has crdit cards they stay at their on home."
   ]
  },
  {
   "cell_type": "code",
   "execution_count": null,
   "id": "f715024b",
   "metadata": {},
   "outputs": [],
   "source": [
    "data"
   ]
  },
  {
   "cell_type": "markdown",
   "id": "2241f8c6",
   "metadata": {},
   "source": [
    "#### Checking Outliers"
   ]
  },
  {
   "cell_type": "code",
   "execution_count": null,
   "id": "0f52041a",
   "metadata": {},
   "outputs": [],
   "source": [
    "df = data.select_dtypes(include='int')"
   ]
  },
  {
   "cell_type": "code",
   "execution_count": null,
   "id": "eed57a48",
   "metadata": {},
   "outputs": [],
   "source": [
    "df"
   ]
  },
  {
   "cell_type": "code",
   "execution_count": null,
   "id": "fba225f2",
   "metadata": {},
   "outputs": [],
   "source": [
    "sns.boxplot(data.high_credit_amt)"
   ]
  },
  {
   "cell_type": "code",
   "execution_count": null,
   "id": "1c225da3",
   "metadata": {},
   "outputs": [],
   "source": [
    "data.loc[data[\"high_credit_amt\"]>100000000,\"high_credit_amt\"] = np.mean(data.high_credit_amt)"
   ]
  },
  {
   "cell_type": "code",
   "execution_count": null,
   "id": "8e82c191",
   "metadata": {},
   "outputs": [],
   "source": [
    "sns.boxplot(data.cur_balance_amt)"
   ]
  },
  {
   "cell_type": "code",
   "execution_count": null,
   "id": "f1fcaf43",
   "metadata": {},
   "outputs": [],
   "source": [
    "data.loc[data[\"cur_balance_amt\"]>130000000,\"cur_balance_amt\"] = np.mean(data.cur_balance_amt)"
   ]
  },
  {
   "cell_type": "markdown",
   "id": "7dc87f8c",
   "metadata": {},
   "source": [
    "# Conversion of categorical variables\n",
    "\n",
    "* Here i'm going to apply LabelEncoder and manually Encoding because every data are Nominal Data."
   ]
  },
  {
   "cell_type": "markdown",
   "id": "c2368d07",
   "metadata": {},
   "source": [
    "#### Feature_1\n",
    "\n",
    "* which showing cards types"
   ]
  },
  {
   "cell_type": "code",
   "execution_count": null,
   "id": "8c797787",
   "metadata": {},
   "outputs": [],
   "source": [
    "data.feature_1.value_counts()"
   ]
  },
  {
   "cell_type": "code",
   "execution_count": null,
   "id": "b622128a",
   "metadata": {},
   "outputs": [],
   "source": [
    "#manual encoding of Total stops\n",
    "data.feature_1 = data.feature_1.replace({\"Platinum Cricke\":0,\"Golf Card\":1,\"Insignia\":2,\"RBL Bank Fun+\":3,\"Titanium Deligh\":4,\n",
    "                                        \"Platinum Deligh\":5,\"Platinum Maxima\":6})"
   ]
  },
  {
   "cell_type": "markdown",
   "id": "ce60c0ee",
   "metadata": {},
   "source": [
    "#### Feature_27"
   ]
  },
  {
   "cell_type": "code",
   "execution_count": null,
   "id": "7d9244ca",
   "metadata": {},
   "outputs": [],
   "source": [
    "data.feature_27.value_counts()"
   ]
  },
  {
   "cell_type": "code",
   "execution_count": null,
   "id": "9ff26f1c",
   "metadata": {},
   "outputs": [],
   "source": [
    "data.feature_27 = data.feature_27.replace({\"Architect\":0,\"CA\":1,\"Engineer\":2,\"Professional\":3,\"Doctor\":4,\"Others\":5,\n",
    "                                           \"Diploma\":6,\"MBA/MMS\":7,\"Post-Graduate\":8,\"Graduate\":9})"
   ]
  },
  {
   "cell_type": "markdown",
   "id": "b1b1cff3",
   "metadata": {},
   "source": [
    "#### Feature_32"
   ]
  },
  {
   "cell_type": "code",
   "execution_count": null,
   "id": "621eb163",
   "metadata": {},
   "outputs": [],
   "source": [
    "data.feature_32.value_counts()"
   ]
  },
  {
   "cell_type": "code",
   "execution_count": null,
   "id": "7aa68991",
   "metadata": {},
   "outputs": [],
   "source": [
    "data.feature_32 = data.feature_32.replace({\"PG/Ho\":0,\"Compa\":1,\"Rente\":2,\"Paren\":3,\"Self\":4})"
   ]
  },
  {
   "cell_type": "markdown",
   "id": "9857f36f",
   "metadata": {},
   "source": [
    "#### Feature_36"
   ]
  },
  {
   "cell_type": "code",
   "execution_count": null,
   "id": "5cc5febd",
   "metadata": {},
   "outputs": [],
   "source": [
    "data.feature_36.value_counts()"
   ]
  },
  {
   "cell_type": "code",
   "execution_count": null,
   "id": "1983a72a",
   "metadata": {},
   "outputs": [],
   "source": [
    "data.feature_36 = data.feature_36.replace({\"Others\":0,\"Partnership\":1,\"PSU\":2,\"Partnership Co.\":3,\"Government Organisation\":4,\n",
    "                                          \"Proprietorship\":5,\"MNC\":6,\"Public Ltd Co.\":7,\"Private Ltd. Co.\":8})"
   ]
  },
  {
   "cell_type": "markdown",
   "id": "018c4038",
   "metadata": {},
   "source": [
    "#### Feature_37"
   ]
  },
  {
   "cell_type": "code",
   "execution_count": null,
   "id": "f508c475",
   "metadata": {},
   "outputs": [],
   "source": [
    "data.feature_37.value_counts()"
   ]
  },
  {
   "cell_type": "code",
   "execution_count": null,
   "id": "0053a406",
   "metadata": {},
   "outputs": [],
   "source": [
    "data.feature_37 = data.feature_37.replace({\"Agriculture\":0,\"Tourism\":1,\"Real Estate\":2,\"Transportation/Logistics\":3,\"Manufacturing\":4,\n",
    "                                          \"Health Care\":5,\"KPO/LPO/ITES\":6,\"Industrial\":7,\"Information Technology\":8,\"Others\":9,\n",
    "                                          \"Banking/Financial Services\":10})"
   ]
  },
  {
   "cell_type": "markdown",
   "id": "08e0e623",
   "metadata": {},
   "source": [
    "#### Feature_72"
   ]
  },
  {
   "cell_type": "code",
   "execution_count": null,
   "id": "b308aa0a",
   "metadata": {},
   "outputs": [],
   "source": [
    "data.feature_72.value_counts()"
   ]
  },
  {
   "cell_type": "code",
   "execution_count": null,
   "id": "20214f27",
   "metadata": {},
   "outputs": [],
   "source": [
    "data.feature_72 = data.feature_72.replace({\"O\":0,\"R\":1})"
   ]
  },
  {
   "cell_type": "markdown",
   "id": "db4f4523",
   "metadata": {},
   "source": [
    "#### Feature_12"
   ]
  },
  {
   "cell_type": "code",
   "execution_count": null,
   "id": "3cfb4c38",
   "metadata": {},
   "outputs": [],
   "source": [
    "data.feature_12.value_counts()"
   ]
  },
  {
   "cell_type": "markdown",
   "id": "6af9428d",
   "metadata": {},
   "source": [
    "#### Feature_50"
   ]
  },
  {
   "cell_type": "code",
   "execution_count": null,
   "id": "0c07f00a",
   "metadata": {},
   "outputs": [],
   "source": [
    "data.feature_50.value_counts()"
   ]
  },
  {
   "cell_type": "code",
   "execution_count": null,
   "id": "00f33171",
   "metadata": {},
   "outputs": [],
   "source": [
    "data.feature_50 = data.feature_50.replace({\"N\":0,\"Y\":1})"
   ]
  },
  {
   "cell_type": "code",
   "execution_count": null,
   "id": "d1a473d9",
   "metadata": {},
   "outputs": [],
   "source": [
    "from sklearn.preprocessing import LabelEncoder\n",
    "le = LabelEncoder()"
   ]
  },
  {
   "cell_type": "code",
   "execution_count": null,
   "id": "b4d487eb",
   "metadata": {},
   "outputs": [],
   "source": [
    "data.feature_12 = le.fit_transform(data.feature_12)"
   ]
  },
  {
   "cell_type": "code",
   "execution_count": null,
   "id": "84281f98",
   "metadata": {},
   "outputs": [],
   "source": [
    "data.feature_15 = le.fit_transform(data.feature_15)"
   ]
  },
  {
   "cell_type": "code",
   "execution_count": null,
   "id": "46862f92",
   "metadata": {},
   "outputs": [],
   "source": [
    "data.feature_16 = le.fit_transform(data.feature_16)"
   ]
  },
  {
   "cell_type": "code",
   "execution_count": null,
   "id": "6df3ef97",
   "metadata": {},
   "outputs": [],
   "source": [
    "data.feature_28 = le.fit_transform(data.feature_28)"
   ]
  },
  {
   "cell_type": "code",
   "execution_count": null,
   "id": "53f9f598",
   "metadata": {},
   "outputs": [],
   "source": [
    "data.feature_38 = le.fit_transform(data.feature_38)"
   ]
  },
  {
   "cell_type": "code",
   "execution_count": null,
   "id": "25dd23c4",
   "metadata": {},
   "outputs": [],
   "source": [
    "data.feature_50.value_counts()"
   ]
  },
  {
   "cell_type": "code",
   "execution_count": null,
   "id": "abe1f207",
   "metadata": {},
   "outputs": [],
   "source": [
    "data"
   ]
  },
  {
   "cell_type": "code",
   "execution_count": null,
   "id": "88ac9ced",
   "metadata": {},
   "outputs": [],
   "source": [
    "# i'm going to drop feature_43 variable because feature_28 and feature_43 are giving us same information.\n",
    "\n",
    "data.drop(\"feature_43\",axis=1,inplace=True)"
   ]
  },
  {
   "cell_type": "markdown",
   "id": "00a97051",
   "metadata": {},
   "source": [
    "# Feature Selection"
   ]
  },
  {
   "cell_type": "code",
   "execution_count": null,
   "id": "1a24e43e",
   "metadata": {},
   "outputs": [],
   "source": [
    "data.corr()"
   ]
  },
  {
   "cell_type": "code",
   "execution_count": null,
   "id": "7f7717ac",
   "metadata": {},
   "outputs": [],
   "source": [
    "plt.figure(figsize=(28,28))#increase plot size\n",
    "sns.heatmap(data.corr(),annot=True,cmap=\"RdYlGn\")#its show corelation between each and every columns by plot heatmap\n",
    "#here we can see that every columns are connected to each other,So we can't remove any columns."
   ]
  },
  {
   "cell_type": "markdown",
   "id": "a345bd07",
   "metadata": {},
   "source": [
    "* Here, we can see that feature_30 highly corelated with feature_63\n",
    "* feature_34 highly corelated with feature_68\n",
    "* feature_35 highly corelated with feature_69\n",
    "* feature_41 highly corelated with feature_44\n",
    "* So, according to statistical way i'm going to drop one feature of them."
   ]
  },
  {
   "cell_type": "code",
   "execution_count": null,
   "id": "ec7d3a84",
   "metadata": {},
   "outputs": [],
   "source": [
    "data.drop([\"feature_63\",\"feature_68\",\"feature_69\",\"feature_41\"],axis=1,inplace=True)"
   ]
  },
  {
   "cell_type": "code",
   "execution_count": null,
   "id": "fd3ba2ce",
   "metadata": {},
   "outputs": [],
   "source": [
    "data"
   ]
  },
  {
   "cell_type": "code",
   "execution_count": null,
   "id": "b2c97651",
   "metadata": {},
   "outputs": [],
   "source": [
    "# Now selecting independent variable and dependent variables\n",
    "\n",
    "x = data.drop(\"Bad_label\",axis=1)\n",
    "x"
   ]
  },
  {
   "cell_type": "code",
   "execution_count": null,
   "id": "82475b1f",
   "metadata": {},
   "outputs": [],
   "source": [
    "y = data.Bad_label\n",
    "y"
   ]
  },
  {
   "cell_type": "code",
   "execution_count": null,
   "id": "0809bc1f",
   "metadata": {},
   "outputs": [],
   "source": [
    "#target variable are not balanced so we have to balanced this for avoiding overfitting and underfitting\n",
    "data.Bad_label.value_counts()"
   ]
  },
  {
   "cell_type": "markdown",
   "id": "89edd3ed",
   "metadata": {},
   "source": [
    "# Model Creation :-"
   ]
  },
  {
   "cell_type": "code",
   "execution_count": null,
   "id": "99b38070",
   "metadata": {},
   "outputs": [],
   "source": [
    "from sklearn.model_selection import train_test_split\n",
    "x_train,x_test,y_train,y_test = train_test_split(x,y,test_size=0.25,random_state=43)"
   ]
  },
  {
   "cell_type": "code",
   "execution_count": null,
   "id": "2b3e4b13",
   "metadata": {},
   "outputs": [],
   "source": [
    "x_train"
   ]
  },
  {
   "cell_type": "code",
   "execution_count": null,
   "id": "02287a94",
   "metadata": {},
   "outputs": [],
   "source": [
    "y_train"
   ]
  },
  {
   "cell_type": "code",
   "execution_count": null,
   "id": "558a22d8",
   "metadata": {},
   "outputs": [],
   "source": [
    "x_test"
   ]
  },
  {
   "cell_type": "code",
   "execution_count": null,
   "id": "61056866",
   "metadata": {},
   "outputs": [],
   "source": [
    "y_test"
   ]
  },
  {
   "cell_type": "markdown",
   "id": "54f32aa1",
   "metadata": {},
   "source": [
    "# Data Balancing"
   ]
  },
  {
   "cell_type": "code",
   "execution_count": null,
   "id": "5d56d53b",
   "metadata": {},
   "outputs": [],
   "source": [
    "from imblearn.over_sampling import SMOTE\n",
    "sm = SMOTE()"
   ]
  },
  {
   "cell_type": "code",
   "execution_count": null,
   "id": "34bb6ce5",
   "metadata": {},
   "outputs": [],
   "source": [
    "x_sm,y_sm = sm.fit_resample(x_train,y_train)"
   ]
  },
  {
   "cell_type": "code",
   "execution_count": null,
   "id": "9fde7239",
   "metadata": {},
   "outputs": [],
   "source": [
    "from collections import Counter\n",
    "print(Counter(y_train))\n",
    "print(Counter(y_sm))"
   ]
  },
  {
   "cell_type": "markdown",
   "id": "ab79cf6a",
   "metadata": {},
   "source": [
    "# Model Selection"
   ]
  },
  {
   "cell_type": "markdown",
   "id": "74d82e90",
   "metadata": {},
   "source": [
    "## LogisticRegression Model"
   ]
  },
  {
   "cell_type": "code",
   "execution_count": null,
   "id": "f36b3e1b",
   "metadata": {},
   "outputs": [],
   "source": [
    "from sklearn.linear_model import LogisticRegression\n",
    "lr = LogisticRegression()"
   ]
  },
  {
   "cell_type": "code",
   "execution_count": null,
   "id": "c06c1e33",
   "metadata": {},
   "outputs": [],
   "source": [
    "lr.fit(x_sm,y_sm)"
   ]
  },
  {
   "cell_type": "code",
   "execution_count": null,
   "id": "ecf91e30",
   "metadata": {},
   "outputs": [],
   "source": [
    "y_pred = lr.predict(x_test)\n",
    "y_pred"
   ]
  },
  {
   "cell_type": "code",
   "execution_count": null,
   "id": "e218e031",
   "metadata": {},
   "outputs": [],
   "source": [
    "y_test.values"
   ]
  },
  {
   "cell_type": "markdown",
   "id": "4e27a2a6",
   "metadata": {},
   "source": [
    "## Model Evalution"
   ]
  },
  {
   "cell_type": "code",
   "execution_count": null,
   "id": "e1590269",
   "metadata": {},
   "outputs": [],
   "source": [
    "from sklearn.metrics import accuracy_score,r2_score,f1_score,precision_score,recall_score,confusion_matrix,classification_report"
   ]
  },
  {
   "cell_type": "code",
   "execution_count": null,
   "id": "213211cd",
   "metadata": {},
   "outputs": [],
   "source": [
    "acc = accuracy_score(y_pred,y_test)\n",
    "acc"
   ]
  },
  {
   "cell_type": "code",
   "execution_count": null,
   "id": "9b6f55c0",
   "metadata": {},
   "outputs": [],
   "source": [
    "f1 = f1_score(y_pred,y_test,average=\"weighted\")\n",
    "f1"
   ]
  },
  {
   "cell_type": "code",
   "execution_count": null,
   "id": "1d972d7f",
   "metadata": {},
   "outputs": [],
   "source": [
    "confusion_matrix(y_pred,y_test)"
   ]
  },
  {
   "cell_type": "code",
   "execution_count": null,
   "id": "dbfa0e74",
   "metadata": {},
   "outputs": [],
   "source": [
    "print(classification_report(y_pred,y_test))"
   ]
  },
  {
   "cell_type": "markdown",
   "id": "7b4d6c2b",
   "metadata": {},
   "source": [
    "# KNN Model"
   ]
  },
  {
   "cell_type": "code",
   "execution_count": null,
   "id": "21c864f9",
   "metadata": {},
   "outputs": [],
   "source": [
    "from sklearn.neighbors import KNeighborsClassifier\n",
    "KNN = KNeighborsClassifier()"
   ]
  },
  {
   "cell_type": "code",
   "execution_count": null,
   "id": "5bf1f7f3",
   "metadata": {},
   "outputs": [],
   "source": [
    "ERROR_RATE =[]\n",
    "\n",
    "for i in range(1,13):\n",
    "    KNN = KNeighborsClassifier(n_neighbors=i)\n",
    "    KNN.fit(x_sm, y_sm)\n",
    "    y_pred = KNN.predict(x_test)\n",
    "    error_rate = (y_test != y_pred).sum()/len(y_test)*100\n",
    "    ERROR_RATE.append(error_rate)"
   ]
  },
  {
   "cell_type": "code",
   "execution_count": null,
   "id": "9f1de173",
   "metadata": {},
   "outputs": [],
   "source": [
    "ERROR_RATE"
   ]
  },
  {
   "cell_type": "code",
   "execution_count": null,
   "id": "5c682c78",
   "metadata": {},
   "outputs": [],
   "source": [
    "plt.figure(figsize=(10,6))\n",
    "plt.plot(range(1,13),ERROR_RATE,color='blue', linestyle='dashed', \n",
    "         marker='o',markerfacecolor='red', markersize=10)"
   ]
  },
  {
   "cell_type": "code",
   "execution_count": null,
   "id": "a58e480f",
   "metadata": {},
   "outputs": [],
   "source": [
    "model = KNeighborsClassifier(n_neighbors=3)\n",
    "model.fit(x_sm,y_sm)"
   ]
  },
  {
   "cell_type": "markdown",
   "id": "338443ca",
   "metadata": {},
   "source": [
    "# DecisionTreeClassifier Model"
   ]
  },
  {
   "cell_type": "code",
   "execution_count": null,
   "id": "ee484978",
   "metadata": {},
   "outputs": [],
   "source": [
    "from sklearn.tree import DecisionTreeClassifier  \n",
    "dt = DecisionTreeClassifier()                    \n",
    "dt.fit(x_sm,y_sm)  "
   ]
  },
  {
   "cell_type": "code",
   "execution_count": null,
   "id": "c30b0393",
   "metadata": {},
   "outputs": [],
   "source": [
    "y_pred4=dt.predict(x_test)\n",
    "y_pred4"
   ]
  },
  {
   "cell_type": "code",
   "execution_count": null,
   "id": "a194e11e",
   "metadata": {},
   "outputs": [],
   "source": [
    "y_test.values"
   ]
  },
  {
   "cell_type": "code",
   "execution_count": null,
   "id": "377382be",
   "metadata": {},
   "outputs": [],
   "source": [
    "acc5 = accuracy_score(y_pred4,y_test)\n",
    "acc5"
   ]
  },
  {
   "cell_type": "code",
   "execution_count": null,
   "id": "bbb27bc0",
   "metadata": {},
   "outputs": [],
   "source": [
    "print(classification_report(y_pred4,y_test))"
   ]
  },
  {
   "cell_type": "markdown",
   "id": "db1cc5a1",
   "metadata": {},
   "source": [
    "# RandomForestClassifier"
   ]
  },
  {
   "cell_type": "code",
   "execution_count": null,
   "id": "9cefb6e4",
   "metadata": {},
   "outputs": [],
   "source": [
    "from sklearn.ensemble import RandomForestClassifier#importing randomforest\n",
    "\n",
    "rf_clf = RandomForestClassifier(n_estimators=100)#object creation ,taking 100 decision tree in random forest \n",
    "rf_clf.fit(x_sm,y_sm)#training the data"
   ]
  },
  {
   "cell_type": "code",
   "execution_count": null,
   "id": "499b986d",
   "metadata": {},
   "outputs": [],
   "source": [
    "y_predict=rf_clf.predict(x_test)#testing"
   ]
  },
  {
   "cell_type": "code",
   "execution_count": null,
   "id": "4b9dd49b",
   "metadata": {},
   "outputs": [],
   "source": [
    "acc4 = accuracy_score(y_test,y_predict)# checking accuracy\n",
    "acc4"
   ]
  },
  {
   "cell_type": "code",
   "execution_count": null,
   "id": "b68e4f82",
   "metadata": {},
   "outputs": [],
   "source": [
    "print(classification_report(y_test,y_predict))"
   ]
  },
  {
   "cell_type": "code",
   "execution_count": null,
   "id": "2a944b6a",
   "metadata": {},
   "outputs": [],
   "source": [
    "print(\"accuracy_score :\", accuracy_score(y_test,y_predict))\n",
    "print(\"precision_score :\", precision_score(y_test,y_predict))\n",
    "print(\"recall_score :\", recall_score(y_test,y_predict))\n",
    "print(\"F1_score :\", f1_score(y_test,y_predict))"
   ]
  },
  {
   "cell_type": "code",
   "execution_count": null,
   "id": "398b6f56",
   "metadata": {},
   "outputs": [],
   "source": []
  },
  {
   "cell_type": "markdown",
   "id": "65eb46a3",
   "metadata": {},
   "source": [
    "# ANN - MLPClassifier"
   ]
  },
  {
   "cell_type": "code",
   "execution_count": null,
   "id": "d5587c76",
   "metadata": {},
   "outputs": [],
   "source": [
    "## model creation\n",
    "from sklearn.neural_network import MLPClassifier\n",
    "model = MLPClassifier( hidden_layer_sizes=(100,2),\n",
    "                       learning_rate_init=0.1,\n",
    "                       max_iter=150,random_state=33) ## model object creation max_iter=Stopping parameter\n",
    "model.fit(x_sm,y_sm) ## training the data\n",
    "y_predict_proba = model.predict(x_test) ## predicting the probability of class\n",
    "y_train_predict = model.predict(x_train)"
   ]
  },
  {
   "cell_type": "code",
   "execution_count": null,
   "id": "a7300d0d",
   "metadata": {},
   "outputs": [],
   "source": [
    "acc5 = accuracy_score(y_test,y_predict_proba)\n",
    "acc5"
   ]
  },
  {
   "cell_type": "code",
   "execution_count": null,
   "id": "7f53a24e",
   "metadata": {},
   "outputs": [],
   "source": [
    "print(classification_report(y_test,y_predict_proba))"
   ]
  },
  {
   "cell_type": "markdown",
   "id": "9149db0f",
   "metadata": {},
   "source": [
    "# XG Boost"
   ]
  },
  {
   "cell_type": "code",
   "execution_count": null,
   "id": "5a55f53b",
   "metadata": {},
   "outputs": [],
   "source": [
    "import xgboost as xg    #importing xgboost with alias name xg\n",
    "from xgboost import XGBClassifier   #calling XGBRegressor\n",
    "xgb_r = xg.XGBClassifier(    #assign in variable\n",
    "                  n_estimators = 500, seed = 123)\n",
    "xgb_r.fit(x_sm, y_sm)# Fitting the model\n",
    "\n",
    "xgb_pred = xgb_r.predict(x_test)# Predict the model\n",
    "\n",
    "r2_score4 = accuracy_score(y_test,xgb_pred)  #checking r2 score\n",
    "r2_score4"
   ]
  },
  {
   "cell_type": "code",
   "execution_count": null,
   "id": "54039899",
   "metadata": {},
   "outputs": [],
   "source": [
    "print(classification_report(y_test,xgb_pred))"
   ]
  },
  {
   "cell_type": "code",
   "execution_count": null,
   "id": "3e50e70c",
   "metadata": {},
   "outputs": [],
   "source": [
    "print(\"accuracy_score :\", accuracy_score(y_test,xgb_pred))\n",
    "print(\"precision_score :\", precision_score(y_test,xgb_pred))\n",
    "print(\"recall_score :\", recall_score(y_test,xgb_pred))\n",
    "print(\"F1_score :\", f1_score(y_test,xgb_pred))"
   ]
  },
  {
   "cell_type": "markdown",
   "id": "fc6c5ff4",
   "metadata": {},
   "source": [
    "# Support Vector Classifier"
   ]
  },
  {
   "cell_type": "code",
   "execution_count": null,
   "id": "96ab8ff9",
   "metadata": {},
   "outputs": [],
   "source": [
    "# Support Vector Classifier Model\n",
    "\n",
    "from sklearn.svm import SVC\n",
    "svc = SVC(random_state=10) ## base model with default parameters\n",
    "svc.fit(x_sm, y_sm) # fit the model"
   ]
  },
  {
   "cell_type": "code",
   "execution_count": null,
   "id": "4df5168f",
   "metadata": {},
   "outputs": [],
   "source": [
    "svc_pred = svc.predict(x_test)  # predict the model\n",
    "svc_pred"
   ]
  },
  {
   "cell_type": "code",
   "execution_count": null,
   "id": "060c6496",
   "metadata": {},
   "outputs": [],
   "source": [
    "print(\"accuracy_score :\", accuracy_score(y_test,svc_pred))\n",
    "print(\"precision_score :\", precision_score(y_test,svc_pred))\n",
    "print(\"recall_score :\", recall_score(y_test,svc_pred))\n",
    "print(\"F1_score :\", f1_score(y_test,svc_pred))"
   ]
  }
 ],
 "metadata": {
  "kernelspec": {
   "display_name": "Python 3 (ipykernel)",
   "language": "python",
   "name": "python3"
  },
  "language_info": {
   "codemirror_mode": {
    "name": "ipython",
    "version": 3
   },
   "file_extension": ".py",
   "mimetype": "text/x-python",
   "name": "python",
   "nbconvert_exporter": "python",
   "pygments_lexer": "ipython3",
   "version": "3.9.13"
  }
 },
 "nbformat": 4,
 "nbformat_minor": 5
}
